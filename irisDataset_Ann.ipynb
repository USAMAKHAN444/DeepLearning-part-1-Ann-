{
 "cells": [
  {
   "cell_type": "code",
   "execution_count": 1,
   "metadata": {
    "collapsed": true
   },
   "outputs": [],
   "source": [
    "import pandas as pd\n",
    "from sklearn.preprocessing import StandardScaler\n",
    "from sklearn.model_selection import train_test_split\n",
    "from sklearn.preprocessing import LabelEncoder"
   ]
  },
  {
   "cell_type": "code",
   "execution_count": 2,
   "outputs": [
    {
     "data": {
      "text/plain": "     sepal.length  sepal.width  petal.length  petal.width    variety\n0             5.1          3.5           1.4          0.2     Setosa\n1             4.9          3.0           1.4          0.2     Setosa\n2             4.7          3.2           1.3          0.2     Setosa\n3             4.6          3.1           1.5          0.2     Setosa\n4             5.0          3.6           1.4          0.2     Setosa\n..            ...          ...           ...          ...        ...\n145           6.7          3.0           5.2          2.3  Virginica\n146           6.3          2.5           5.0          1.9  Virginica\n147           6.5          3.0           5.2          2.0  Virginica\n148           6.2          3.4           5.4          2.3  Virginica\n149           5.9          3.0           5.1          1.8  Virginica\n\n[150 rows x 5 columns]",
      "text/html": "<div>\n<style scoped>\n    .dataframe tbody tr th:only-of-type {\n        vertical-align: middle;\n    }\n\n    .dataframe tbody tr th {\n        vertical-align: top;\n    }\n\n    .dataframe thead th {\n        text-align: right;\n    }\n</style>\n<table border=\"1\" class=\"dataframe\">\n  <thead>\n    <tr style=\"text-align: right;\">\n      <th></th>\n      <th>sepal.length</th>\n      <th>sepal.width</th>\n      <th>petal.length</th>\n      <th>petal.width</th>\n      <th>variety</th>\n    </tr>\n  </thead>\n  <tbody>\n    <tr>\n      <th>0</th>\n      <td>5.1</td>\n      <td>3.5</td>\n      <td>1.4</td>\n      <td>0.2</td>\n      <td>Setosa</td>\n    </tr>\n    <tr>\n      <th>1</th>\n      <td>4.9</td>\n      <td>3.0</td>\n      <td>1.4</td>\n      <td>0.2</td>\n      <td>Setosa</td>\n    </tr>\n    <tr>\n      <th>2</th>\n      <td>4.7</td>\n      <td>3.2</td>\n      <td>1.3</td>\n      <td>0.2</td>\n      <td>Setosa</td>\n    </tr>\n    <tr>\n      <th>3</th>\n      <td>4.6</td>\n      <td>3.1</td>\n      <td>1.5</td>\n      <td>0.2</td>\n      <td>Setosa</td>\n    </tr>\n    <tr>\n      <th>4</th>\n      <td>5.0</td>\n      <td>3.6</td>\n      <td>1.4</td>\n      <td>0.2</td>\n      <td>Setosa</td>\n    </tr>\n    <tr>\n      <th>...</th>\n      <td>...</td>\n      <td>...</td>\n      <td>...</td>\n      <td>...</td>\n      <td>...</td>\n    </tr>\n    <tr>\n      <th>145</th>\n      <td>6.7</td>\n      <td>3.0</td>\n      <td>5.2</td>\n      <td>2.3</td>\n      <td>Virginica</td>\n    </tr>\n    <tr>\n      <th>146</th>\n      <td>6.3</td>\n      <td>2.5</td>\n      <td>5.0</td>\n      <td>1.9</td>\n      <td>Virginica</td>\n    </tr>\n    <tr>\n      <th>147</th>\n      <td>6.5</td>\n      <td>3.0</td>\n      <td>5.2</td>\n      <td>2.0</td>\n      <td>Virginica</td>\n    </tr>\n    <tr>\n      <th>148</th>\n      <td>6.2</td>\n      <td>3.4</td>\n      <td>5.4</td>\n      <td>2.3</td>\n      <td>Virginica</td>\n    </tr>\n    <tr>\n      <th>149</th>\n      <td>5.9</td>\n      <td>3.0</td>\n      <td>5.1</td>\n      <td>1.8</td>\n      <td>Virginica</td>\n    </tr>\n  </tbody>\n</table>\n<p>150 rows × 5 columns</p>\n</div>"
     },
     "execution_count": 2,
     "metadata": {},
     "output_type": "execute_result"
    }
   ],
   "source": [
    "df=pd.read_csv(\"/home/usamakhan/Downloads/PfA_MidTerm Lab/iris.csv\")\n",
    "df"
   ],
   "metadata": {
    "collapsed": false,
    "pycharm": {
     "name": "#%%\n"
    }
   }
  },
  {
   "cell_type": "code",
   "execution_count": 3,
   "outputs": [],
   "source": [
    "feature=df.iloc[:,:-1]\n",
    "target=df.iloc[:,-1]"
   ],
   "metadata": {
    "collapsed": false,
    "pycharm": {
     "name": "#%%\n"
    }
   }
  },
  {
   "cell_type": "code",
   "execution_count": 4,
   "outputs": [
    {
     "data": {
      "text/plain": "     sepal.length  sepal.width  petal.length  petal.width\n0             5.1          3.5           1.4          0.2\n1             4.9          3.0           1.4          0.2\n2             4.7          3.2           1.3          0.2\n3             4.6          3.1           1.5          0.2\n4             5.0          3.6           1.4          0.2\n..            ...          ...           ...          ...\n145           6.7          3.0           5.2          2.3\n146           6.3          2.5           5.0          1.9\n147           6.5          3.0           5.2          2.0\n148           6.2          3.4           5.4          2.3\n149           5.9          3.0           5.1          1.8\n\n[150 rows x 4 columns]",
      "text/html": "<div>\n<style scoped>\n    .dataframe tbody tr th:only-of-type {\n        vertical-align: middle;\n    }\n\n    .dataframe tbody tr th {\n        vertical-align: top;\n    }\n\n    .dataframe thead th {\n        text-align: right;\n    }\n</style>\n<table border=\"1\" class=\"dataframe\">\n  <thead>\n    <tr style=\"text-align: right;\">\n      <th></th>\n      <th>sepal.length</th>\n      <th>sepal.width</th>\n      <th>petal.length</th>\n      <th>petal.width</th>\n    </tr>\n  </thead>\n  <tbody>\n    <tr>\n      <th>0</th>\n      <td>5.1</td>\n      <td>3.5</td>\n      <td>1.4</td>\n      <td>0.2</td>\n    </tr>\n    <tr>\n      <th>1</th>\n      <td>4.9</td>\n      <td>3.0</td>\n      <td>1.4</td>\n      <td>0.2</td>\n    </tr>\n    <tr>\n      <th>2</th>\n      <td>4.7</td>\n      <td>3.2</td>\n      <td>1.3</td>\n      <td>0.2</td>\n    </tr>\n    <tr>\n      <th>3</th>\n      <td>4.6</td>\n      <td>3.1</td>\n      <td>1.5</td>\n      <td>0.2</td>\n    </tr>\n    <tr>\n      <th>4</th>\n      <td>5.0</td>\n      <td>3.6</td>\n      <td>1.4</td>\n      <td>0.2</td>\n    </tr>\n    <tr>\n      <th>...</th>\n      <td>...</td>\n      <td>...</td>\n      <td>...</td>\n      <td>...</td>\n    </tr>\n    <tr>\n      <th>145</th>\n      <td>6.7</td>\n      <td>3.0</td>\n      <td>5.2</td>\n      <td>2.3</td>\n    </tr>\n    <tr>\n      <th>146</th>\n      <td>6.3</td>\n      <td>2.5</td>\n      <td>5.0</td>\n      <td>1.9</td>\n    </tr>\n    <tr>\n      <th>147</th>\n      <td>6.5</td>\n      <td>3.0</td>\n      <td>5.2</td>\n      <td>2.0</td>\n    </tr>\n    <tr>\n      <th>148</th>\n      <td>6.2</td>\n      <td>3.4</td>\n      <td>5.4</td>\n      <td>2.3</td>\n    </tr>\n    <tr>\n      <th>149</th>\n      <td>5.9</td>\n      <td>3.0</td>\n      <td>5.1</td>\n      <td>1.8</td>\n    </tr>\n  </tbody>\n</table>\n<p>150 rows × 4 columns</p>\n</div>"
     },
     "execution_count": 4,
     "metadata": {},
     "output_type": "execute_result"
    }
   ],
   "source": [
    "feature"
   ],
   "metadata": {
    "collapsed": false,
    "pycharm": {
     "name": "#%%\n"
    }
   }
  },
  {
   "cell_type": "code",
   "execution_count": 5,
   "outputs": [
    {
     "data": {
      "text/plain": "0         Setosa\n1         Setosa\n2         Setosa\n3         Setosa\n4         Setosa\n         ...    \n145    Virginica\n146    Virginica\n147    Virginica\n148    Virginica\n149    Virginica\nName: variety, Length: 150, dtype: object"
     },
     "execution_count": 5,
     "metadata": {},
     "output_type": "execute_result"
    }
   ],
   "source": [
    "target"
   ],
   "metadata": {
    "collapsed": false,
    "pycharm": {
     "name": "#%%\n"
    }
   }
  },
  {
   "cell_type": "code",
   "execution_count": 6,
   "outputs": [],
   "source": [
    "encoder=LabelEncoder()\n",
    "target=encoder.fit_transform(target)"
   ],
   "metadata": {
    "collapsed": false,
    "pycharm": {
     "name": "#%%\n"
    }
   }
  },
  {
   "cell_type": "code",
   "execution_count": 7,
   "outputs": [
    {
     "data": {
      "text/plain": "array([0, 0, 0, 0, 0, 0, 0, 0, 0, 0, 0, 0, 0, 0, 0, 0, 0, 0, 0, 0, 0, 0,\n       0, 0, 0, 0, 0, 0, 0, 0, 0, 0, 0, 0, 0, 0, 0, 0, 0, 0, 0, 0, 0, 0,\n       0, 0, 0, 0, 0, 0, 1, 1, 1, 1, 1, 1, 1, 1, 1, 1, 1, 1, 1, 1, 1, 1,\n       1, 1, 1, 1, 1, 1, 1, 1, 1, 1, 1, 1, 1, 1, 1, 1, 1, 1, 1, 1, 1, 1,\n       1, 1, 1, 1, 1, 1, 1, 1, 1, 1, 1, 1, 2, 2, 2, 2, 2, 2, 2, 2, 2, 2,\n       2, 2, 2, 2, 2, 2, 2, 2, 2, 2, 2, 2, 2, 2, 2, 2, 2, 2, 2, 2, 2, 2,\n       2, 2, 2, 2, 2, 2, 2, 2, 2, 2, 2, 2, 2, 2, 2, 2, 2, 2])"
     },
     "execution_count": 7,
     "metadata": {},
     "output_type": "execute_result"
    }
   ],
   "source": [
    "target"
   ],
   "metadata": {
    "collapsed": false,
    "pycharm": {
     "name": "#%%\n"
    }
   }
  },
  {
   "cell_type": "code",
   "execution_count": 8,
   "outputs": [
    {
     "data": {
      "text/plain": "((120, 4), (30, 4), (120,), (30,))"
     },
     "execution_count": 8,
     "metadata": {},
     "output_type": "execute_result"
    }
   ],
   "source": [
    "x_train ,x_test , y_train , y_test=train_test_split(feature,target,test_size=0.2,random_state=0)\n",
    "x_train.shape , x_test.shape ,y_train.shape , y_test.shape"
   ],
   "metadata": {
    "collapsed": false,
    "pycharm": {
     "name": "#%%\n"
    }
   }
  },
  {
   "cell_type": "code",
   "execution_count": 9,
   "outputs": [
    {
     "data": {
      "text/plain": "(array([[ 0.61303014,  0.10850105,  0.94751783,  0.736072  ],\n        [-0.56776627, -0.12400121,  0.38491447,  0.34752959],\n        [-0.80392556,  1.03851009, -1.30289562, -1.33615415],\n        [ 0.25879121, -0.12400121,  0.60995581,  0.736072  ],\n        [ 0.61303014, -0.58900572,  1.00377816,  1.25412853],\n        [-0.80392556, -0.82150798,  0.04735245,  0.21801546],\n        [-0.21352735,  1.73601687, -1.19037495, -1.20664002],\n        [ 0.14071157, -0.82150798,  0.72247648,  0.47704373],\n        [ 0.02263193, -0.12400121,  0.21613346,  0.34752959],\n        [-0.09544771, -1.05401024,  0.10361279, -0.04101281],\n        [ 1.0853487 , -0.12400121,  0.94751783,  1.1246144 ],\n        [-1.39432376,  0.34100331, -1.41541629, -1.33615415],\n        [ 1.20342834,  0.10850105,  0.72247648,  1.38364267],\n        [-1.04008484,  1.03851009, -1.24663528, -0.81809761],\n        [-0.56776627,  1.50351461, -1.30289562, -1.33615415],\n        [-1.04008484, -2.4490238 , -0.1776889 , -0.30004108],\n        [ 0.73110978, -0.12400121,  0.94751783,  0.736072  ],\n        [ 0.96726906,  0.57350557,  1.0600385 ,  1.64267094],\n        [ 0.14071157, -1.98401928,  0.66621615,  0.34752959],\n        [ 0.96726906, -1.2865125 ,  1.11629884,  0.736072  ],\n        [-0.33160699, -1.2865125 ,  0.04735245, -0.17052694],\n        [ 2.14806547, -0.12400121,  1.28507985,  1.38364267],\n        [ 0.49495049,  0.57350557,  0.49743514,  0.47704373],\n        [-0.44968663, -1.51901476, -0.00890789, -0.17052694],\n        [ 0.49495049, -0.82150798,  0.60995581,  0.736072  ],\n        [ 0.49495049, -0.58900572,  0.72247648,  0.34752959],\n        [-1.15816448, -1.2865125 ,  0.38491447,  0.60655786],\n        [ 0.49495049, -1.2865125 ,  0.66621615,  0.86558613],\n        [ 1.32150798,  0.34100331,  0.49743514,  0.21801546],\n        [ 0.73110978, -0.12400121,  0.77873682,  0.99510027],\n        [ 0.14071157,  0.80600783,  0.38491447,  0.47704373],\n        [-1.27624412,  0.10850105, -1.24663528, -1.33615415],\n        [-0.09544771, -0.82150798,  0.72247648,  0.86558613],\n        [-0.33160699, -0.82150798,  0.21613346,  0.08850133],\n        [-0.33160699, -0.35650346, -0.12142856,  0.08850133],\n        [-0.44968663, -1.2865125 ,  0.10361279,  0.08850133],\n        [ 0.25879121, -0.12400121,  0.4411748 ,  0.21801546],\n        [ 1.55766726,  0.34100331,  1.22881951,  0.736072  ],\n        [-0.68584591,  1.50351461, -1.30289562, -1.33615415],\n        [-1.86664232, -0.12400121, -1.52793696, -1.46566829],\n        [ 0.61303014, -0.82150798,  0.83499716,  0.86558613],\n        [-0.21352735, -0.12400121,  0.21613346, -0.04101281],\n        [-0.56776627,  0.80600783, -1.19037495, -1.33615415],\n        [-0.21352735,  3.13103043, -1.30289562, -1.07712588],\n        [ 1.20342834,  0.10850105,  0.60995581,  0.34752959],\n        [-1.5124034 ,  0.10850105, -1.30289562, -1.33615415],\n        [ 0.02263193, -0.12400121,  0.72247648,  0.736072  ],\n        [-0.9220052 , -1.2865125 , -0.45899058, -0.17052694],\n        [-1.5124034 ,  0.80600783, -1.35915595, -1.20664002],\n        [ 0.37687085, -1.98401928,  0.38491447,  0.34752959],\n        [ 1.55766726,  1.27101235,  1.28507985,  1.64267094],\n        [-0.21352735, -0.35650346,  0.21613346,  0.08850133],\n        [-1.27624412, -0.12400121, -1.35915595, -1.46566829],\n        [ 1.43958762, -0.12400121,  1.17255917,  1.1246144 ],\n        [ 1.20342834,  0.34100331,  1.0600385 ,  1.38364267],\n        [ 0.73110978, -0.12400121,  1.11629884,  1.25412853],\n        [ 0.61303014, -0.58900572,  1.00377816,  1.1246144 ],\n        [-0.9220052 ,  1.73601687, -1.24663528, -1.33615415],\n        [-1.27624412,  0.80600783, -1.24663528, -1.33615415],\n        [ 0.73110978,  0.34100331,  0.72247648,  0.99510027],\n        [ 0.96726906,  0.57350557,  1.0600385 ,  1.1246144 ],\n        [-1.63048304, -1.75151702, -1.41541629, -1.20664002],\n        [ 0.37687085,  0.80600783,  0.89125749,  1.38364267],\n        [-1.15816448, -0.12400121, -1.35915595, -1.33615415],\n        [-0.21352735, -1.2865125 ,  0.66621615,  0.99510027],\n        [ 1.20342834,  0.10850105,  0.89125749,  1.1246144 ],\n        [-1.74856268,  0.34100331, -1.41541629, -1.33615415],\n        [-1.04008484,  1.27101235, -1.35915595, -1.33615415],\n        [ 1.55766726, -0.12400121,  1.11629884,  0.47704373],\n        [-0.9220052 ,  1.03851009, -1.35915595, -1.20664002],\n        [-1.74856268, -0.12400121, -1.41541629, -1.33615415],\n        [-0.56776627,  1.96851913, -1.19037495, -1.07712588],\n        [-0.44968663, -1.75151702,  0.10361279,  0.08850133],\n        [ 1.0853487 ,  0.34100331,  1.17255917,  1.38364267],\n        [ 2.02998583, -0.12400121,  1.56638153,  1.1246144 ],\n        [-0.9220052 ,  1.03851009, -1.35915595, -1.33615415],\n        [-1.15816448,  0.10850105, -1.30289562, -1.33615415],\n        [-0.80392556,  0.80600783, -1.35915595, -1.33615415],\n        [-0.21352735, -0.58900572,  0.38491447,  0.08850133],\n        [ 0.84918942, -0.12400121,  0.32865413,  0.21801546],\n        [-1.04008484,  0.34100331, -1.47167663, -1.33615415],\n        [-0.9220052 ,  0.57350557, -1.19037495, -0.94761175],\n        [ 0.61303014, -0.35650346,  0.27239379,  0.08850133],\n        [-0.56776627,  0.80600783, -1.30289562, -1.07712588],\n        [ 2.14806547, -1.05401024,  1.73516253,  1.38364267],\n        [-1.15816448, -1.51901476, -0.29020957, -0.30004108],\n        [ 2.38422475,  1.73601687,  1.45386085,  0.99510027],\n        [ 0.96726906,  0.10850105,  0.32865413,  0.21801546],\n        [-0.80392556,  2.43352365, -1.30289562, -1.46566829],\n        [ 0.14071157, -0.12400121,  0.55369548,  0.736072  ],\n        [-0.09544771,  2.20102139, -1.47167663, -1.33615415],\n        [ 2.14806547, -0.58900572,  1.62264186,  0.99510027],\n        [-0.9220052 ,  1.73601687, -1.30289562, -1.20664002],\n        [-1.39432376,  0.34100331, -1.24663528, -1.33615415],\n        [ 1.79382654, -0.58900572,  1.28507985,  0.86558613],\n        [-1.04008484,  0.57350557, -1.35915595, -1.33615415],\n        [ 0.49495049,  0.80600783,  1.00377816,  1.5131568 ],\n        [-0.21352735, -0.58900572,  0.15987312,  0.08850133],\n        [-0.09544771, -0.82150798,  0.04735245, -0.04101281],\n        [-0.21352735, -1.05401024, -0.1776889 , -0.30004108],\n        [ 0.61303014,  0.34100331,  0.83499716,  1.38364267],\n        [ 0.96726906, -0.12400121,  0.77873682,  1.38364267],\n        [ 0.49495049, -1.2865125 ,  0.60995581,  0.34752959],\n        [ 0.96726906, -0.12400121,  0.66621615,  0.60655786],\n        [-1.04008484, -0.12400121, -1.24663528, -1.33615415],\n        [-0.44968663, -1.51901476, -0.06516822, -0.30004108],\n        [ 0.96726906,  0.10850105,  1.00377816,  1.5131568 ],\n        [-0.09544771, -0.82150798,  0.72247648,  0.86558613],\n        [-0.9220052 ,  0.80600783, -1.30289562, -1.33615415],\n        [ 0.84918942, -0.35650346,  0.4411748 ,  0.08850133],\n        [-0.33160699, -0.12400121,  0.15987312,  0.08850133],\n        [ 0.02263193,  0.34100331,  0.55369548,  0.736072  ],\n        [ 0.49495049, -1.75151702,  0.32865413,  0.08850133],\n        [-0.44968663,  1.03851009, -1.41541629, -1.33615415],\n        [-0.9220052 ,  1.50351461, -1.30289562, -1.07712588],\n        [-1.15816448,  0.10850105, -1.30289562, -1.46566829],\n        [ 0.49495049, -0.35650346,  1.00377816,  0.736072  ],\n        [-0.09544771, -0.82150798,  0.15987312, -0.30004108],\n        [ 2.14806547,  1.73601687,  1.62264186,  1.25412853],\n        [-1.5124034 ,  0.34100331, -1.35915595, -1.33615415]]),\n array([[ 0.14956537, -0.6062277 ,  0.94476368,  1.91948971],\n        [ 0.43000045, -1.93697143,  0.28422975, -0.10102577],\n        [-0.27108724,  2.49884101, -1.27703226, -1.25560605],\n        [ 2.25282843, -0.38443708,  1.66534614,  1.0535545 ],\n        [-0.97217492,  0.72451603, -1.21698372, -1.25560605],\n        [ 0.85065306,  0.50272541,  1.48520053,  2.06381224],\n        [-0.97217492,  0.94630665, -1.3370808 , -1.11128352],\n        [ 1.41152321,  0.05914417,  0.70456952,  0.6205869 ],\n        [ 1.55174074, -0.6062277 ,  0.76461806,  0.47626436],\n        [ 0.57021798, -0.6062277 ,  0.28422975,  0.33194183],\n        [ 0.57021798, -1.04980894,  1.24500637,  0.47626436],\n        [ 0.9908706 ,  0.28093479,  0.58447244,  0.6205869 ],\n        [ 0.57021798, -0.6062277 ,  0.70456952,  0.18761929],\n        [ 1.13108813, -0.6062277 ,  0.64452098,  0.6205869 ],\n        [ 0.57021798, -0.38443708,  0.70456952,  0.47626436],\n        [-1.11239246,  1.16809728, -1.27703226, -1.39992858],\n        [ 0.43000045, -0.38443708,  0.58447244,  0.6205869 ],\n        [-0.27108724, -1.04980894,  0.52442391,  0.18761929],\n        [-1.25261   , -0.16264646, -1.27703226, -1.11128352],\n        [-0.41130478,  1.83346914, -1.3370808 , -0.96696098],\n        [-0.1308697 , -0.6062277 ,  0.8246666 ,  1.34219957],\n        [-0.1308697 , -0.16264646,  0.58447244,  0.6205869 ],\n        [-1.25261   ,  0.72451603, -0.97678957, -1.25560605],\n        [-1.81348015, -0.38443708, -1.27703226, -1.25560605],\n        [ 0.71043552, -0.6062277 ,  0.76461806,  1.0535545 ],\n        [-1.53304507,  1.16809728, -1.51722641, -1.25560605],\n        [-0.83195739,  1.61167852, -0.97678957, -0.96696098],\n        [ 0.71043552, -0.38443708,  0.46437537,  0.33194183],\n        [-0.97217492, -1.71518081, -0.13611002, -0.10102577],\n        [-0.97217492,  0.72451603, -1.15693518, -0.96696098]]))"
     },
     "execution_count": 9,
     "metadata": {},
     "output_type": "execute_result"
    }
   ],
   "source": [
    "scaled=StandardScaler()\n",
    "x_train_scaled=scaled.fit_transform(x_train)\n",
    "x_test_scaled=scaled.fit_transform(x_test)\n",
    "x_train_scaled , x_test_scaled"
   ],
   "metadata": {
    "collapsed": false,
    "pycharm": {
     "name": "#%%\n"
    }
   }
  },
  {
   "cell_type": "code",
   "execution_count": 10,
   "outputs": [
    {
     "name": "stderr",
     "output_type": "stream",
     "text": [
      "2022-11-30 19:32:10.190235: I tensorflow/core/platform/cpu_feature_guard.cc:193] This TensorFlow binary is optimized with oneAPI Deep Neural Network Library (oneDNN) to use the following CPU instructions in performance-critical operations:  AVX2 FMA\n",
      "To enable them in other operations, rebuild TensorFlow with the appropriate compiler flags.\n",
      "2022-11-30 19:32:14.926233: W tensorflow/stream_executor/platform/default/dso_loader.cc:64] Could not load dynamic library 'libcudart.so.11.0'; dlerror: libcudart.so.11.0: cannot open shared object file: No such file or directory\n",
      "2022-11-30 19:32:14.926263: I tensorflow/stream_executor/cuda/cudart_stub.cc:29] Ignore above cudart dlerror if you do not have a GPU set up on your machine.\n",
      "2022-11-30 19:32:16.974477: E tensorflow/stream_executor/cuda/cuda_blas.cc:2981] Unable to register cuBLAS factory: Attempting to register factory for plugin cuBLAS when one has already been registered\n",
      "2022-11-30 19:32:27.726886: W tensorflow/stream_executor/platform/default/dso_loader.cc:64] Could not load dynamic library 'libnvinfer.so.7'; dlerror: libnvinfer.so.7: cannot open shared object file: No such file or directory\n",
      "2022-11-30 19:32:27.727302: W tensorflow/stream_executor/platform/default/dso_loader.cc:64] Could not load dynamic library 'libnvinfer_plugin.so.7'; dlerror: libnvinfer_plugin.so.7: cannot open shared object file: No such file or directory\n",
      "2022-11-30 19:32:27.727343: W tensorflow/compiler/tf2tensorrt/utils/py_utils.cc:38] TF-TRT Warning: Cannot dlopen some TensorRT libraries. If you would like to use Nvidia GPU with TensorRT, please make sure the missing libraries mentioned above are installed properly.\n"
     ]
    }
   ],
   "source": [
    "import tensorflow\n",
    "from tensorflow import keras\n",
    "from keras.models import Sequential\n",
    "from keras.layers import Dropout, Dense\n",
    "from keras.callbacks import EarlyStopping"
   ],
   "metadata": {
    "collapsed": false,
    "pycharm": {
     "name": "#%%\n"
    }
   }
  },
  {
   "cell_type": "code",
   "execution_count": 11,
   "outputs": [
    {
     "name": "stderr",
     "output_type": "stream",
     "text": [
      "2022-11-30 19:32:33.006995: W tensorflow/stream_executor/platform/default/dso_loader.cc:64] Could not load dynamic library 'libcuda.so.1'; dlerror: libcuda.so.1: cannot open shared object file: No such file or directory\n",
      "2022-11-30 19:32:33.016382: W tensorflow/stream_executor/cuda/cuda_driver.cc:263] failed call to cuInit: UNKNOWN ERROR (303)\n",
      "2022-11-30 19:32:33.016514: I tensorflow/stream_executor/cuda/cuda_diagnostics.cc:156] kernel driver does not appear to be running on this host (usamakhan-HP-EliteBook-820-G2): /proc/driver/nvidia/version does not exist\n",
      "2022-11-30 19:32:33.043112: I tensorflow/core/platform/cpu_feature_guard.cc:193] This TensorFlow binary is optimized with oneAPI Deep Neural Network Library (oneDNN) to use the following CPU instructions in performance-critical operations:  AVX2 FMA\n",
      "To enable them in other operations, rebuild TensorFlow with the appropriate compiler flags.\n"
     ]
    }
   ],
   "source": [
    "model = Sequential()\n",
    "\n",
    "model.add(Dense(64,activation='relu',input_dim=4))\n",
    "model.add(Dropout(0.2))\n",
    "model.add(Dense(22,activation='relu'))\n",
    "model.add(Dropout(0.2))\n",
    "model.add(Dense(20,activation='relu'))\n",
    "model.add(Dropout(0.2))\n",
    "model.add(Dense(3,activation='softmax'))"
   ],
   "metadata": {
    "collapsed": false,
    "pycharm": {
     "name": "#%%\n"
    }
   }
  },
  {
   "cell_type": "code",
   "execution_count": 12,
   "outputs": [],
   "source": [
    "model.compile(optimizer='Adam',loss='sparse_categorical_crossentropy',metrics=['accuracy'])"
   ],
   "metadata": {
    "collapsed": false,
    "pycharm": {
     "name": "#%%\n"
    }
   }
  },
  {
   "cell_type": "code",
   "execution_count": 13,
   "outputs": [],
   "source": [
    "callback = EarlyStopping(\n",
    "    monitor=\"val_loss\",\n",
    "    min_delta=0.00001,\n",
    "    patience=20,\n",
    "    verbose=1,\n",
    "    mode=\"auto\",\n",
    "    baseline=None,\n",
    "    restore_best_weights=False\n",
    ")"
   ],
   "metadata": {
    "collapsed": false,
    "pycharm": {
     "name": "#%%\n"
    }
   }
  },
  {
   "cell_type": "code",
   "execution_count": 14,
   "outputs": [
    {
     "name": "stdout",
     "output_type": "stream",
     "text": [
      "Epoch 1/100\n",
      "2/2 [==============================] - 3s 312ms/step - loss: 1.1340 - accuracy: 0.3854 - val_loss: 1.0586 - val_accuracy: 0.5833\n",
      "Epoch 2/100\n",
      "2/2 [==============================] - 0s 86ms/step - loss: 1.1157 - accuracy: 0.4479 - val_loss: 1.0277 - val_accuracy: 0.5833\n",
      "Epoch 3/100\n",
      "2/2 [==============================] - 0s 58ms/step - loss: 1.0812 - accuracy: 0.4375 - val_loss: 0.9990 - val_accuracy: 0.5833\n",
      "Epoch 4/100\n",
      "2/2 [==============================] - 0s 41ms/step - loss: 1.0461 - accuracy: 0.4479 - val_loss: 0.9731 - val_accuracy: 0.6667\n",
      "Epoch 5/100\n",
      "2/2 [==============================] - 0s 39ms/step - loss: 1.0265 - accuracy: 0.5000 - val_loss: 0.9490 - val_accuracy: 0.7083\n",
      "Epoch 6/100\n",
      "2/2 [==============================] - 0s 54ms/step - loss: 0.9794 - accuracy: 0.5417 - val_loss: 0.9259 - val_accuracy: 0.8750\n",
      "Epoch 7/100\n",
      "2/2 [==============================] - 0s 42ms/step - loss: 0.9099 - accuracy: 0.7083 - val_loss: 0.9040 - val_accuracy: 0.8333\n",
      "Epoch 8/100\n",
      "2/2 [==============================] - 0s 46ms/step - loss: 0.9175 - accuracy: 0.6875 - val_loss: 0.8831 - val_accuracy: 0.8333\n",
      "Epoch 9/100\n",
      "2/2 [==============================] - 0s 43ms/step - loss: 0.8790 - accuracy: 0.7188 - val_loss: 0.8632 - val_accuracy: 0.8333\n",
      "Epoch 10/100\n",
      "2/2 [==============================] - 0s 43ms/step - loss: 0.8811 - accuracy: 0.7188 - val_loss: 0.8435 - val_accuracy: 0.8333\n",
      "Epoch 11/100\n",
      "2/2 [==============================] - 0s 33ms/step - loss: 0.8474 - accuracy: 0.7604 - val_loss: 0.8249 - val_accuracy: 0.7917\n",
      "Epoch 12/100\n",
      "2/2 [==============================] - 0s 48ms/step - loss: 0.8062 - accuracy: 0.7188 - val_loss: 0.8067 - val_accuracy: 0.7917\n",
      "Epoch 13/100\n",
      "2/2 [==============================] - 0s 49ms/step - loss: 0.7869 - accuracy: 0.7708 - val_loss: 0.7893 - val_accuracy: 0.7917\n",
      "Epoch 14/100\n",
      "2/2 [==============================] - 0s 40ms/step - loss: 0.7681 - accuracy: 0.7500 - val_loss: 0.7723 - val_accuracy: 0.7917\n",
      "Epoch 15/100\n",
      "2/2 [==============================] - 0s 47ms/step - loss: 0.7435 - accuracy: 0.7500 - val_loss: 0.7559 - val_accuracy: 0.7917\n",
      "Epoch 16/100\n",
      "2/2 [==============================] - 0s 41ms/step - loss: 0.7114 - accuracy: 0.7708 - val_loss: 0.7396 - val_accuracy: 0.7917\n",
      "Epoch 17/100\n",
      "2/2 [==============================] - 0s 50ms/step - loss: 0.7434 - accuracy: 0.7604 - val_loss: 0.7247 - val_accuracy: 0.7917\n",
      "Epoch 18/100\n",
      "2/2 [==============================] - 0s 73ms/step - loss: 0.7021 - accuracy: 0.7292 - val_loss: 0.7104 - val_accuracy: 0.7917\n",
      "Epoch 19/100\n",
      "2/2 [==============================] - 0s 60ms/step - loss: 0.6636 - accuracy: 0.7396 - val_loss: 0.6971 - val_accuracy: 0.7917\n",
      "Epoch 20/100\n",
      "2/2 [==============================] - 0s 43ms/step - loss: 0.6129 - accuracy: 0.8021 - val_loss: 0.6847 - val_accuracy: 0.7917\n",
      "Epoch 21/100\n",
      "2/2 [==============================] - 0s 46ms/step - loss: 0.6225 - accuracy: 0.7708 - val_loss: 0.6718 - val_accuracy: 0.7917\n",
      "Epoch 22/100\n",
      "2/2 [==============================] - 0s 35ms/step - loss: 0.5941 - accuracy: 0.8021 - val_loss: 0.6590 - val_accuracy: 0.7917\n",
      "Epoch 23/100\n",
      "2/2 [==============================] - 0s 40ms/step - loss: 0.5981 - accuracy: 0.8229 - val_loss: 0.6465 - val_accuracy: 0.7917\n",
      "Epoch 24/100\n",
      "2/2 [==============================] - 0s 35ms/step - loss: 0.5498 - accuracy: 0.8229 - val_loss: 0.6333 - val_accuracy: 0.7917\n",
      "Epoch 25/100\n",
      "2/2 [==============================] - 0s 46ms/step - loss: 0.5041 - accuracy: 0.8021 - val_loss: 0.6206 - val_accuracy: 0.7917\n",
      "Epoch 26/100\n",
      "2/2 [==============================] - 0s 40ms/step - loss: 0.5444 - accuracy: 0.7708 - val_loss: 0.6085 - val_accuracy: 0.7917\n",
      "Epoch 27/100\n",
      "2/2 [==============================] - 0s 38ms/step - loss: 0.5426 - accuracy: 0.8021 - val_loss: 0.5962 - val_accuracy: 0.7917\n",
      "Epoch 28/100\n",
      "2/2 [==============================] - 0s 46ms/step - loss: 0.5239 - accuracy: 0.8229 - val_loss: 0.5846 - val_accuracy: 0.7917\n",
      "Epoch 29/100\n",
      "2/2 [==============================] - 0s 51ms/step - loss: 0.5387 - accuracy: 0.7917 - val_loss: 0.5732 - val_accuracy: 0.7917\n",
      "Epoch 30/100\n",
      "2/2 [==============================] - 0s 56ms/step - loss: 0.4769 - accuracy: 0.8542 - val_loss: 0.5601 - val_accuracy: 0.7917\n",
      "Epoch 31/100\n",
      "2/2 [==============================] - 0s 41ms/step - loss: 0.4762 - accuracy: 0.8750 - val_loss: 0.5475 - val_accuracy: 0.7917\n",
      "Epoch 32/100\n",
      "2/2 [==============================] - 0s 42ms/step - loss: 0.4815 - accuracy: 0.8438 - val_loss: 0.5351 - val_accuracy: 0.7917\n",
      "Epoch 33/100\n",
      "2/2 [==============================] - 0s 36ms/step - loss: 0.4119 - accuracy: 0.8333 - val_loss: 0.5215 - val_accuracy: 0.7917\n",
      "Epoch 34/100\n",
      "2/2 [==============================] - 0s 34ms/step - loss: 0.4587 - accuracy: 0.8542 - val_loss: 0.5074 - val_accuracy: 0.8333\n",
      "Epoch 35/100\n",
      "2/2 [==============================] - 0s 46ms/step - loss: 0.4281 - accuracy: 0.8333 - val_loss: 0.4940 - val_accuracy: 0.8333\n",
      "Epoch 36/100\n",
      "2/2 [==============================] - 0s 54ms/step - loss: 0.4603 - accuracy: 0.8438 - val_loss: 0.4811 - val_accuracy: 0.8333\n",
      "Epoch 37/100\n",
      "2/2 [==============================] - 0s 64ms/step - loss: 0.4259 - accuracy: 0.8333 - val_loss: 0.4689 - val_accuracy: 0.8333\n",
      "Epoch 38/100\n",
      "2/2 [==============================] - 0s 53ms/step - loss: 0.3938 - accuracy: 0.8542 - val_loss: 0.4582 - val_accuracy: 0.8333\n",
      "Epoch 39/100\n",
      "2/2 [==============================] - 0s 38ms/step - loss: 0.3983 - accuracy: 0.8646 - val_loss: 0.4482 - val_accuracy: 0.8333\n",
      "Epoch 40/100\n",
      "2/2 [==============================] - 0s 36ms/step - loss: 0.3714 - accuracy: 0.8854 - val_loss: 0.4388 - val_accuracy: 0.8333\n",
      "Epoch 41/100\n",
      "2/2 [==============================] - 0s 32ms/step - loss: 0.3964 - accuracy: 0.8229 - val_loss: 0.4292 - val_accuracy: 0.8333\n",
      "Epoch 42/100\n",
      "2/2 [==============================] - 0s 35ms/step - loss: 0.3879 - accuracy: 0.8333 - val_loss: 0.4219 - val_accuracy: 0.8333\n",
      "Epoch 43/100\n",
      "2/2 [==============================] - 0s 43ms/step - loss: 0.3528 - accuracy: 0.8646 - val_loss: 0.4128 - val_accuracy: 0.8333\n",
      "Epoch 44/100\n",
      "2/2 [==============================] - 0s 48ms/step - loss: 0.3337 - accuracy: 0.8750 - val_loss: 0.4043 - val_accuracy: 0.8333\n",
      "Epoch 45/100\n",
      "2/2 [==============================] - 0s 35ms/step - loss: 0.3278 - accuracy: 0.9062 - val_loss: 0.3954 - val_accuracy: 0.8333\n",
      "Epoch 46/100\n",
      "2/2 [==============================] - 0s 37ms/step - loss: 0.3288 - accuracy: 0.8750 - val_loss: 0.3878 - val_accuracy: 0.8333\n",
      "Epoch 47/100\n",
      "2/2 [==============================] - 0s 32ms/step - loss: 0.3084 - accuracy: 0.8750 - val_loss: 0.3832 - val_accuracy: 0.8333\n",
      "Epoch 48/100\n",
      "2/2 [==============================] - 0s 33ms/step - loss: 0.3412 - accuracy: 0.8542 - val_loss: 0.3803 - val_accuracy: 0.8333\n",
      "Epoch 49/100\n",
      "2/2 [==============================] - 0s 36ms/step - loss: 0.3739 - accuracy: 0.8542 - val_loss: 0.3765 - val_accuracy: 0.8333\n",
      "Epoch 50/100\n",
      "2/2 [==============================] - 0s 37ms/step - loss: 0.3408 - accuracy: 0.8750 - val_loss: 0.3732 - val_accuracy: 0.8333\n",
      "Epoch 51/100\n",
      "2/2 [==============================] - 0s 36ms/step - loss: 0.3123 - accuracy: 0.8542 - val_loss: 0.3664 - val_accuracy: 0.8333\n",
      "Epoch 52/100\n",
      "2/2 [==============================] - 0s 33ms/step - loss: 0.3138 - accuracy: 0.8646 - val_loss: 0.3614 - val_accuracy: 0.8333\n",
      "Epoch 53/100\n",
      "2/2 [==============================] - 0s 35ms/step - loss: 0.3578 - accuracy: 0.8333 - val_loss: 0.3528 - val_accuracy: 0.8333\n",
      "Epoch 54/100\n",
      "2/2 [==============================] - 0s 35ms/step - loss: 0.3090 - accuracy: 0.8750 - val_loss: 0.3463 - val_accuracy: 0.8333\n",
      "Epoch 55/100\n",
      "2/2 [==============================] - 0s 38ms/step - loss: 0.2956 - accuracy: 0.8958 - val_loss: 0.3403 - val_accuracy: 0.8750\n",
      "Epoch 56/100\n",
      "2/2 [==============================] - 0s 60ms/step - loss: 0.3148 - accuracy: 0.8542 - val_loss: 0.3355 - val_accuracy: 0.8750\n",
      "Epoch 57/100\n",
      "2/2 [==============================] - 0s 41ms/step - loss: 0.2958 - accuracy: 0.9062 - val_loss: 0.3327 - val_accuracy: 0.8750\n",
      "Epoch 58/100\n",
      "2/2 [==============================] - 0s 33ms/step - loss: 0.2830 - accuracy: 0.8646 - val_loss: 0.3303 - val_accuracy: 0.8750\n",
      "Epoch 59/100\n",
      "2/2 [==============================] - 0s 32ms/step - loss: 0.2673 - accuracy: 0.9167 - val_loss: 0.3287 - val_accuracy: 0.8750\n",
      "Epoch 60/100\n",
      "2/2 [==============================] - 0s 33ms/step - loss: 0.2777 - accuracy: 0.9271 - val_loss: 0.3270 - val_accuracy: 0.8750\n",
      "Epoch 61/100\n",
      "2/2 [==============================] - 0s 36ms/step - loss: 0.2446 - accuracy: 0.9375 - val_loss: 0.3247 - val_accuracy: 0.8750\n",
      "Epoch 62/100\n",
      "2/2 [==============================] - 0s 51ms/step - loss: 0.3210 - accuracy: 0.8646 - val_loss: 0.3222 - val_accuracy: 0.8750\n",
      "Epoch 63/100\n",
      "2/2 [==============================] - 0s 55ms/step - loss: 0.2790 - accuracy: 0.8750 - val_loss: 0.3184 - val_accuracy: 0.8750\n",
      "Epoch 64/100\n",
      "2/2 [==============================] - 0s 58ms/step - loss: 0.2738 - accuracy: 0.8854 - val_loss: 0.3137 - val_accuracy: 0.8750\n",
      "Epoch 65/100\n",
      "2/2 [==============================] - 0s 38ms/step - loss: 0.2613 - accuracy: 0.9167 - val_loss: 0.3079 - val_accuracy: 0.8750\n",
      "Epoch 66/100\n",
      "2/2 [==============================] - 0s 36ms/step - loss: 0.2474 - accuracy: 0.8958 - val_loss: 0.3053 - val_accuracy: 0.8750\n",
      "Epoch 67/100\n",
      "2/2 [==============================] - 0s 31ms/step - loss: 0.2708 - accuracy: 0.8958 - val_loss: 0.3036 - val_accuracy: 0.8750\n",
      "Epoch 68/100\n",
      "2/2 [==============================] - 0s 32ms/step - loss: 0.2319 - accuracy: 0.8958 - val_loss: 0.2995 - val_accuracy: 0.8750\n",
      "Epoch 69/100\n",
      "2/2 [==============================] - 0s 38ms/step - loss: 0.2311 - accuracy: 0.9167 - val_loss: 0.2954 - val_accuracy: 0.8750\n",
      "Epoch 70/100\n",
      "2/2 [==============================] - 0s 42ms/step - loss: 0.2276 - accuracy: 0.9167 - val_loss: 0.2907 - val_accuracy: 0.8750\n",
      "Epoch 71/100\n",
      "2/2 [==============================] - 0s 41ms/step - loss: 0.2302 - accuracy: 0.9271 - val_loss: 0.2914 - val_accuracy: 0.8750\n",
      "Epoch 72/100\n",
      "2/2 [==============================] - 0s 42ms/step - loss: 0.2607 - accuracy: 0.8958 - val_loss: 0.2915 - val_accuracy: 0.8750\n",
      "Epoch 73/100\n",
      "2/2 [==============================] - 0s 38ms/step - loss: 0.2304 - accuracy: 0.9375 - val_loss: 0.2901 - val_accuracy: 0.8750\n",
      "Epoch 74/100\n",
      "2/2 [==============================] - 0s 38ms/step - loss: 0.1846 - accuracy: 0.9583 - val_loss: 0.2847 - val_accuracy: 0.8750\n",
      "Epoch 75/100\n",
      "2/2 [==============================] - 0s 43ms/step - loss: 0.2275 - accuracy: 0.9271 - val_loss: 0.2822 - val_accuracy: 0.8750\n",
      "Epoch 76/100\n",
      "2/2 [==============================] - 0s 43ms/step - loss: 0.2116 - accuracy: 0.9167 - val_loss: 0.2762 - val_accuracy: 0.8750\n",
      "Epoch 77/100\n",
      "2/2 [==============================] - 0s 60ms/step - loss: 0.2569 - accuracy: 0.9271 - val_loss: 0.2692 - val_accuracy: 0.8750\n",
      "Epoch 78/100\n",
      "2/2 [==============================] - 0s 46ms/step - loss: 0.2023 - accuracy: 0.9479 - val_loss: 0.2643 - val_accuracy: 0.8750\n",
      "Epoch 79/100\n",
      "2/2 [==============================] - 0s 41ms/step - loss: 0.1762 - accuracy: 0.9583 - val_loss: 0.2598 - val_accuracy: 0.9167\n",
      "Epoch 80/100\n",
      "2/2 [==============================] - 0s 36ms/step - loss: 0.2112 - accuracy: 0.9167 - val_loss: 0.2555 - val_accuracy: 0.9167\n",
      "Epoch 81/100\n",
      "2/2 [==============================] - 0s 33ms/step - loss: 0.1747 - accuracy: 0.9479 - val_loss: 0.2495 - val_accuracy: 0.9167\n",
      "Epoch 82/100\n",
      "2/2 [==============================] - 0s 37ms/step - loss: 0.2585 - accuracy: 0.9167 - val_loss: 0.2468 - val_accuracy: 0.9167\n",
      "Epoch 83/100\n",
      "2/2 [==============================] - 0s 37ms/step - loss: 0.2123 - accuracy: 0.9167 - val_loss: 0.2423 - val_accuracy: 0.9167\n",
      "Epoch 84/100\n",
      "2/2 [==============================] - 0s 33ms/step - loss: 0.2174 - accuracy: 0.9375 - val_loss: 0.2422 - val_accuracy: 0.9167\n",
      "Epoch 85/100\n",
      "2/2 [==============================] - 0s 34ms/step - loss: 0.1525 - accuracy: 0.9792 - val_loss: 0.2408 - val_accuracy: 0.9167\n",
      "Epoch 86/100\n",
      "2/2 [==============================] - 0s 32ms/step - loss: 0.2114 - accuracy: 0.9062 - val_loss: 0.2391 - val_accuracy: 0.9167\n",
      "Epoch 87/100\n",
      "2/2 [==============================] - 0s 44ms/step - loss: 0.1869 - accuracy: 0.9271 - val_loss: 0.2343 - val_accuracy: 0.9167\n",
      "Epoch 88/100\n",
      "2/2 [==============================] - 0s 36ms/step - loss: 0.1585 - accuracy: 0.9583 - val_loss: 0.2290 - val_accuracy: 0.9167\n",
      "Epoch 89/100\n",
      "2/2 [==============================] - 0s 42ms/step - loss: 0.1911 - accuracy: 0.9583 - val_loss: 0.2253 - val_accuracy: 0.9167\n",
      "Epoch 90/100\n",
      "2/2 [==============================] - 0s 41ms/step - loss: 0.1851 - accuracy: 0.9583 - val_loss: 0.2229 - val_accuracy: 0.9167\n",
      "Epoch 91/100\n",
      "2/2 [==============================] - 0s 39ms/step - loss: 0.1640 - accuracy: 0.9583 - val_loss: 0.2240 - val_accuracy: 0.9167\n",
      "Epoch 92/100\n",
      "2/2 [==============================] - 0s 37ms/step - loss: 0.1345 - accuracy: 0.9688 - val_loss: 0.2215 - val_accuracy: 0.9167\n",
      "Epoch 93/100\n",
      "2/2 [==============================] - 0s 63ms/step - loss: 0.2123 - accuracy: 0.9271 - val_loss: 0.2186 - val_accuracy: 0.9167\n",
      "Epoch 94/100\n",
      "2/2 [==============================] - 0s 34ms/step - loss: 0.1619 - accuracy: 0.9479 - val_loss: 0.2185 - val_accuracy: 0.9167\n",
      "Epoch 95/100\n",
      "2/2 [==============================] - 0s 30ms/step - loss: 0.1997 - accuracy: 0.9271 - val_loss: 0.2248 - val_accuracy: 0.9167\n",
      "Epoch 96/100\n",
      "2/2 [==============================] - 0s 34ms/step - loss: 0.1843 - accuracy: 0.9479 - val_loss: 0.2334 - val_accuracy: 0.9167\n",
      "Epoch 97/100\n",
      "2/2 [==============================] - 0s 32ms/step - loss: 0.2054 - accuracy: 0.9375 - val_loss: 0.2434 - val_accuracy: 0.8750\n",
      "Epoch 98/100\n",
      "2/2 [==============================] - 0s 47ms/step - loss: 0.1708 - accuracy: 0.9583 - val_loss: 0.2510 - val_accuracy: 0.8750\n",
      "Epoch 99/100\n",
      "2/2 [==============================] - 0s 34ms/step - loss: 0.1240 - accuracy: 0.9688 - val_loss: 0.2539 - val_accuracy: 0.8750\n",
      "Epoch 100/100\n",
      "2/2 [==============================] - 0s 36ms/step - loss: 0.1616 - accuracy: 0.9583 - val_loss: 0.2553 - val_accuracy: 0.8750\n"
     ]
    }
   ],
   "source": [
    "history = model.fit(x_train_scaled,y_train,batch_size=50,epochs=100,verbose=1,validation_split=0.2,callbacks=callback)"
   ],
   "metadata": {
    "collapsed": false,
    "pycharm": {
     "name": "#%%\n"
    }
   }
  },
  {
   "cell_type": "code",
   "execution_count": 15,
   "outputs": [
    {
     "name": "stdout",
     "output_type": "stream",
     "text": [
      "1/1 [==============================] - 0s 114ms/step\n"
     ]
    }
   ],
   "source": [
    "y_pred = model.predict(x_test)"
   ],
   "metadata": {
    "collapsed": false,
    "pycharm": {
     "name": "#%%\n"
    }
   }
  },
  {
   "cell_type": "code",
   "execution_count": 16,
   "outputs": [
    {
     "name": "stdout",
     "output_type": "stream",
     "text": [
      "1/1 [==============================] - 0s 149ms/step - loss: 6.7605 - accuracy: 0.2000\n"
     ]
    },
    {
     "data": {
      "text/plain": "[6.760508060455322, 0.20000000298023224]"
     },
     "execution_count": 16,
     "metadata": {},
     "output_type": "execute_result"
    }
   ],
   "source": [
    "model.evaluate(x_test,y_test)"
   ],
   "metadata": {
    "collapsed": false,
    "pycharm": {
     "name": "#%%\n"
    }
   }
  },
  {
   "cell_type": "code",
   "execution_count": 17,
   "outputs": [],
   "source": [
    "y_pred = y_pred.argmax(axis=-1)"
   ],
   "metadata": {
    "collapsed": false,
    "pycharm": {
     "name": "#%%\n"
    }
   }
  },
  {
   "cell_type": "code",
   "execution_count": 18,
   "outputs": [
    {
     "data": {
      "text/plain": "0.2"
     },
     "execution_count": 18,
     "metadata": {},
     "output_type": "execute_result"
    }
   ],
   "source": [
    "from sklearn.metrics import accuracy_score\n",
    "accuracy_score(y_test,y_pred)"
   ],
   "metadata": {
    "collapsed": false,
    "pycharm": {
     "name": "#%%\n"
    }
   }
  },
  {
   "cell_type": "code",
   "execution_count": 19,
   "outputs": [
    {
     "data": {
      "text/plain": "[<matplotlib.lines.Line2D at 0x7fba3af8c2e0>]"
     },
     "execution_count": 19,
     "metadata": {},
     "output_type": "execute_result"
    },
    {
     "data": {
      "text/plain": "<Figure size 432x288 with 1 Axes>",
      "image/png": "[encoded data removed]"
     },
     "metadata": {
      "needs_background": "light"
     },
     "output_type": "display_data"
    }
   ],
   "source": [
    "import matplotlib.pyplot as plt\n",
    "\n",
    "plt.plot(history.history['loss'])\n",
    "plt.plot(history.history['val_loss'])"
   ],
   "metadata": {
    "collapsed": false,
    "pycharm": {
     "name": "#%%\n"
    }
   }
  },
  {
   "cell_type": "code",
   "execution_count": 20,
   "outputs": [
    {
     "data": {
      "text/plain": "[<matplotlib.lines.Line2D at 0x7fba3ae3bee0>]"
     },
     "execution_count": 20,
     "metadata": {},
     "output_type": "execute_result"
    },
    {
     "data": {
      "text/plain": "<Figure size 432x288 with 1 Axes>",
      "image/png": "[encoded data removed]"
     },
     "metadata": {
      "needs_background": "light"
     },
     "output_type": "display_data"
    }
   ],
   "source": [
    "plt.plot(history.history['accuracy'])\n",
    "plt.plot(history.history['val_accuracy'])"
   ],
   "metadata": {
    "collapsed": false,
    "pycharm": {
     "name": "#%%\n"
    }
   }
  },
  {
   "cell_type": "code",
   "execution_count": 21,
   "outputs": [
    {
     "name": "stdout",
     "output_type": "stream",
     "text": [
      "Test Accuracy:  0.2\n"
     ]
    },
    {
     "data": {
      "text/plain": "<Figure size 1440x1440 with 2 Axes>",
      "image/png": "[encoded data removed]"
     },
     "metadata": {
      "needs_background": "light"
     },
     "output_type": "display_data"
    }
   ],
   "source": [
    "from mlxtend.evaluate import confusion_matrix\n",
    "import seaborn as sns\n",
    "\n",
    "test_acc = accuracy_score(y_test, y_pred)\n",
    "cm = confusion_matrix(y_test, y_pred)\n",
    "\n",
    "print(\"Test Accuracy: \", test_acc)\n",
    "fig, ax = plt.subplots(figsize=(20, 20))\n",
    "sns.heatmap(cm, annot=True, fmt=\"d\")\n",
    "plt.xlabel(\"Predicted\")\n",
    "plt.ylabel(\"true\")\n",
    "plt.show()"
   ],
   "metadata": {
    "collapsed": false,
    "pycharm": {
     "name": "#%%\n"
    }
   }
  },
  {
   "cell_type": "code",
   "execution_count": 21,
   "outputs": [],
   "source": [],
   "metadata": {
    "collapsed": false,
    "pycharm": {
     "name": "#%%\n"
    }
   }
  }
 ],
 "metadata": {
  "kernelspec": {
   "display_name": "Python 3",
   "language": "python",
   "name": "python3"
  },
  "language_info": {
   "codemirror_mode": {
    "name": "ipython",
    "version": 2
   },
   "file_extension": ".py",
   "mimetype": "text/x-python",
   "name": "python",
   "nbconvert_exporter": "python",
   "pygments_lexer": "ipython2",
   "version": "2.7.6"
  }
 },
 "nbformat": 4,
 "nbformat_minor": 0
}